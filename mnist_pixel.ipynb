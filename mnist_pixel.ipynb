{
 "cells": [
  {
   "cell_type": "markdown",
   "metadata": {},
   "source": [
    "# Sequential MNIST & Permuted Sequential MNIST"
   ]
  },
  {
   "cell_type": "markdown",
   "metadata": {},
   "source": [
    "## Overview\n",
    "\n",
    "MNIST is a handwritten digit classification dataset (Lecun et al., 1998) that is frequently used to test deep learning models. In particular, sequential MNIST is frequently used to test a recurrent network's ability to retain information from the distant past (see paper for references). In this task, each MNIST image ($28 \\times 28$) is presented to the model as a $748 \\times 1$ sequence for digit classification. In the more chanllenging permuted MNIST (P-MNIST) setting, the order of the sequence is permuted at a (fixed) random order.\n",
    "\n",
    "**NOET**: \n",
    "- Because a TCN's receptive field depends on depth of the network and the filter size, we need to make sure that the model we used can cover the sequence length 784.\n",
    "\n",
    "- While this is a sequence model task, we only use the last output (i.e. at time T=784) for the eventual classification."
   ]
  },
  {
   "cell_type": "markdown",
   "metadata": {},
   "source": [
    "## Settings"
   ]
  },
  {
   "cell_type": "code",
   "execution_count": 1,
   "metadata": {},
   "outputs": [
    {
     "data": {
      "text/plain": [
       "<torch._C.Generator at 0x7f5708b534f0>"
      ]
     },
     "execution_count": 1,
     "metadata": {},
     "output_type": "execute_result"
    }
   ],
   "source": [
    "import torch as th\n",
    "import torch.nn as nn\n",
    "import numpy as np\n",
    "import torch.nn.functional as F\n",
    "\n",
    "from tqdm.notebook import tqdm\n",
    "\n",
    "BATCH_SIZE = 128\n",
    "DEVICE = \"cuda:0\"\n",
    "DROPOUT = 0.05\n",
    "CLIP = -1\n",
    "EPOCHS = 5\n",
    "KSIZE = 7\n",
    "LEVELS = 8\n",
    "LR = 2e-3\n",
    "OPTIM = \"Adam\"\n",
    "NHID = 30\n",
    "SEED = 1111\n",
    "PERMUTE = False\n",
    "\n",
    "DATA_ROOT = \"/home/densechen/dataset\"\n",
    "\n",
    "N_CLASSES = 10\n",
    "INPUT_CHANNELS = 1\n",
    "SEQ_LEN = int(784 / INPUT_CHANNELS)\n",
    "\n",
    "CHANNEL_SIZES = [NHID] * LEVELS\n",
    "\n",
    "th.manual_seed(SEED)"
   ]
  },
  {
   "cell_type": "markdown",
   "metadata": {},
   "source": [
    "## Data Generation"
   ]
  },
  {
   "cell_type": "code",
   "execution_count": 2,
   "metadata": {},
   "outputs": [
    {
     "name": "stdout",
     "output_type": "stream",
     "text": [
      "Producing data...\n",
      "Finished.\n"
     ]
    }
   ],
   "source": [
    "from torchvision import datasets, transforms\n",
    "\n",
    "def data_generator():\n",
    "    transform = transforms.Compose(\n",
    "                    [transforms.ToTensor(), transforms.Normalize((0.1307,), (0.3081,))])\n",
    "    train_set = datasets.MNIST(DATA_ROOT, train=True, download=False, \n",
    "                               transform=transform)\n",
    "    test_set = datasets.MNIST(DATA_ROOT, train=False, download=False,\n",
    "                               transform=transform)\n",
    "    train_loader = th.utils.data.DataLoader(train_set, batch_size=BATCH_SIZE)\n",
    "    test_loader = th.utils.data.DataLoader(test_set, batch_size=BATCH_SIZE)\n",
    "    return train_loader, test_loader\n",
    "\n",
    "print(\"Producing data...\")\n",
    "train_loader, test_loader = data_generator()\n",
    "print(\"Finished.\")"
   ]
  },
  {
   "cell_type": "markdown",
   "metadata": {},
   "source": [
    "## Build Model"
   ]
  },
  {
   "cell_type": "code",
   "execution_count": 3,
   "metadata": {},
   "outputs": [
    {
     "name": "stdout",
     "output_type": "stream",
     "text": [
      "Building model...\n",
      "Model Size: 96.04 K\n",
      "Finished.\n"
     ]
    }
   ],
   "source": [
    "from core.tcn import TemporalConvNet\n",
    "\n",
    "class TCN(nn.Module):\n",
    "    def __init__(self, input_size, output_size, num_channels, kernel_size, dropout):\n",
    "        super().__init__()\n",
    "        self.tcn = TemporalConvNet(input_size, num_channels,\n",
    "            kernel_size=kernel_size, dropout=dropout)\n",
    "        self.linear = nn.Linear(num_channels[-1], output_size)\n",
    "    \n",
    "    def forward(self, inputs):\n",
    "        # inputs shape: [N, C_in, L_in]\n",
    "        y1 = self.tcn(inputs)\n",
    "        o = self.linear(y1[..., -1])\n",
    "        return F.log_softmax(o, dim=1)\n",
    "\n",
    "print(\"Building model...\")\n",
    "permute_idx = th.Tensor(np.random.permutation(784).astype(np.float64)).long()\n",
    "model = TCN(INPUT_CHANNELS, N_CLASSES, CHANNEL_SIZES, kernel_size=KSIZE, dropout=DROPOUT)\n",
    "\n",
    "model = model.to(DEVICE)\n",
    "\n",
    "optimizer = getattr(th.optim, OPTIM)(model.parameters(), lr=LR)\n",
    "\n",
    "model_size = sum(p.numel() for p in model.parameters())\n",
    "\n",
    "print(f\"Model Size: {model_size/1000} K\")\n",
    "\n",
    "print(\"Finished.\")"
   ]
  },
  {
   "cell_type": "markdown",
   "metadata": {},
   "source": [
    "## Run"
   ]
  },
  {
   "cell_type": "code",
   "execution_count": 4,
   "metadata": {},
   "outputs": [
    {
     "data": {
      "application/vnd.jupyter.widget-view+json": {
       "model_id": "4227a1efec4241139ae5c73a03166f64",
       "version_major": 2,
       "version_minor": 0
      },
      "text/plain": [
       "  0%|          | 0/469 [00:00<?, ?it/s]"
      ]
     },
     "metadata": {},
     "output_type": "display_data"
    },
    {
     "name": "stdout",
     "output_type": "stream",
     "text": [
      "Accuracy: 95.59%\n"
     ]
    },
    {
     "data": {
      "application/vnd.jupyter.widget-view+json": {
       "model_id": "b099521d57474cfb8f276b267dd079f6",
       "version_major": 2,
       "version_minor": 0
      },
      "text/plain": [
       "  0%|          | 0/469 [00:00<?, ?it/s]"
      ]
     },
     "metadata": {},
     "output_type": "display_data"
    },
    {
     "name": "stdout",
     "output_type": "stream",
     "text": [
      "Accuracy: 97.02%\n"
     ]
    },
    {
     "data": {
      "application/vnd.jupyter.widget-view+json": {
       "model_id": "e97a25105f91426ebb4a31266f2eafcc",
       "version_major": 2,
       "version_minor": 0
      },
      "text/plain": [
       "  0%|          | 0/469 [00:00<?, ?it/s]"
      ]
     },
     "metadata": {},
     "output_type": "display_data"
    },
    {
     "name": "stdout",
     "output_type": "stream",
     "text": [
      "Accuracy: 97.72%\n"
     ]
    },
    {
     "data": {
      "application/vnd.jupyter.widget-view+json": {
       "model_id": "205f3a449c7548b9812439c10c831f51",
       "version_major": 2,
       "version_minor": 0
      },
      "text/plain": [
       "  0%|          | 0/469 [00:00<?, ?it/s]"
      ]
     },
     "metadata": {},
     "output_type": "display_data"
    },
    {
     "name": "stdout",
     "output_type": "stream",
     "text": [
      "Accuracy: 97.61%\n"
     ]
    },
    {
     "data": {
      "application/vnd.jupyter.widget-view+json": {
       "model_id": "b5148b88ca5d437db4e17f7621d8e666",
       "version_major": 2,
       "version_minor": 0
      },
      "text/plain": [
       "  0%|          | 0/469 [00:00<?, ?it/s]"
      ]
     },
     "metadata": {},
     "output_type": "display_data"
    },
    {
     "name": "stdout",
     "output_type": "stream",
     "text": [
      "Accuracy: 98.07%\n"
     ]
    }
   ],
   "source": [
    "def train(ep):\n",
    "    model.train()\n",
    "    process = tqdm(train_loader)\n",
    "    for data, target in process:\n",
    "        data, target = data.to(DEVICE), target.to(DEVICE)\n",
    "        data = data.view(-1, INPUT_CHANNELS, SEQ_LEN)\n",
    "        if PERMUTE:\n",
    "            data = data[:, :, permute_idx]\n",
    "        optimizer.zero_grad()\n",
    "        output = model(data)\n",
    "        loss = F.nll_loss(output, target)\n",
    "        loss.backward()\n",
    "        if CLIP > 0:\n",
    "            th.nn.utils.clip_grad_norm_(model.parameters(), CLIP)\n",
    "        optimizer.step()\n",
    "        process.set_description(\n",
    "            f\"Train Epoch: {ep}, Loss: {loss.item():.6f}\")\n",
    "\n",
    "def test():\n",
    "    model.eval()\n",
    "    correct = 0\n",
    "    with th.no_grad():\n",
    "        for data, target in test_loader:\n",
    "            data, target = data.to(DEVICE), target.to(DEVICE)\n",
    "            data = data.view(-1, INPUT_CHANNELS, SEQ_LEN)\n",
    "            if PERMUTE:\n",
    "                data = data[:, :, permute]\n",
    "            output = model(data)\n",
    "            pred = output.data.max(1, keepdim=True)[1]\n",
    "            correct += pred.eq(target.data.view_as(pred)).cpu().sum()\n",
    "    print(f'Accuracy: {correct/len(test_loader.dataset) * 100:.2f}%')\n",
    "\n",
    "for epoch in range(1, EPOCHS+1):\n",
    "    train(epoch)\n",
    "    test()"
   ]
  },
  {
   "cell_type": "code",
   "execution_count": null,
   "metadata": {},
   "outputs": [],
   "source": []
  }
 ],
 "metadata": {
  "kernelspec": {
   "display_name": "Python 3",
   "language": "python",
   "name": "python3"
  },
  "language_info": {
   "codemirror_mode": {
    "name": "ipython",
    "version": 3
   },
   "file_extension": ".py",
   "mimetype": "text/x-python",
   "name": "python",
   "nbconvert_exporter": "python",
   "pygments_lexer": "ipython3",
   "version": "3.9.1"
  }
 },
 "nbformat": 4,
 "nbformat_minor": 4
}
